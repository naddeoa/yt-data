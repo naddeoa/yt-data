{
 "cells": [
  {
   "cell_type": "code",
   "execution_count": 2,
   "metadata": {},
   "outputs": [
    {
     "name": "stdout",
     "output_type": "stream",
     "text": [
      "/home/anthony/workspace/yt-data\n"
     ]
    }
   ],
   "source": [
    "%cd .."
   ]
  },
  {
   "cell_type": "code",
   "execution_count": 3,
   "metadata": {},
   "outputs": [
    {
     "name": "stderr",
     "output_type": "stream",
     "text": [
      "/home/anthony/workspace/yt-data/.venv/lib/python3.8/site-packages/tqdm/auto.py:21: TqdmWarning: IProgress not found. Please update jupyter and ipywidgets. See https://ipywidgets.readthedocs.io/en/stable/user_install.html\n",
      "  from .autonotebook import tqdm as notebook_tqdm\n"
     ]
    }
   ],
   "source": [
    "\n",
    "import tensorflow as tf\n",
    "import os\n",
    "from typing import List, Tuple, Iterator\n",
    "from rangedict import RangeDict\n",
    "import numpy as np\n",
    "\n",
    "from thumbs.experiment import Experiment\n",
    "from thumbs.loss import Loss\n",
    "from thumbs.data import get_pokemon_data256\n",
    "from thumbs.params import HyperParams, MutableHyperParams\n",
    "from thumbs.model.model import Model, BuiltModel\n",
    "\n",
    "from keras.models import Sequential\n",
    "from keras.layers import Dense, Reshape, Conv2DTranspose, Flatten, LeakyReLU\n",
    "from keras.layers import (\n",
    "    Activation,\n",
    "    BatchNormalization,\n",
    "    Dense,\n",
    "    GaussianNoise,\n",
    "    Dropout,\n",
    "    Flatten,\n",
    "    Reshape,\n",
    "    ReLU,\n",
    "    LeakyReLU,\n",
    "    LayerNormalization,\n",
    "    # BatchNormalizationV2,\n",
    ")\n",
    "\n",
    "# from keras.layers.normalization.batch_normalization_v1 import (\n",
    "#     BatchNormalization,\n",
    "# )\n",
    "from tensorflow.compat.v1.keras.layers import BatchNormalization as BatchNormalizationV1\n",
    "from keras.layers.convolutional import Conv2D, Conv2DTranspose\n",
    "\n",
    "from thumbs.train import Train, TrainMSE, TrainBCE, TrainBCESimilarity, TrainWassersteinGP"
   ]
  },
  {
   "cell_type": "code",
   "execution_count": 44,
   "metadata": {},
   "outputs": [
    {
     "name": "stdout",
     "output_type": "stream",
     "text": [
      "Model: \"generator\"\n",
      "________________________________________________________________________________________________________________________________________________________________________________________________________\n",
      " Layer (type)                                                                             Output Shape                                                                    Param #                       \n",
      "========================================================================================================================================================================================================\n",
      " reshape_39 (Reshape)                                                                     (None, 1, 1, 100)                                                               0                             \n",
      "                                                                                                                                                                                                        \n",
      " conv2d_transpose_113 (Conv2DTranspose)                                                   (None, 6, 6, 256)                                                               921856                        \n",
      "                                                                                                                                                                                                        \n",
      " conv2d_transpose_114 (Conv2DTranspose)                                                   (None, 30, 30, 192)                                                             1228992                       \n",
      "                                                                                                                                                                                                        \n",
      " batch_normalization (BatchNormalization)                                                 (None, 30, 30, 192)                                                             768                           \n",
      "                                                                                                                                                                                                        \n",
      " leaky_re_lu (LeakyReLU)                                                                  (None, 30, 30, 192)                                                             0                             \n",
      "                                                                                                                                                                                                        \n",
      " conv2d_transpose_115 (Conv2DTranspose)                                                   (None, 63, 63, 128)                                                             614528                        \n",
      "                                                                                                                                                                                                        \n",
      " batch_normalization_1 (BatchNormalization)                                               (None, 63, 63, 128)                                                             512                           \n",
      "                                                                                                                                                                                                        \n",
      " leaky_re_lu_1 (LeakyReLU)                                                                (None, 63, 63, 128)                                                             0                             \n",
      "                                                                                                                                                                                                        \n",
      " conv2d_transpose_116 (Conv2DTranspose)                                                   (None, 64, 64, 64)                                                              32832                         \n",
      "                                                                                                                                                                                                        \n",
      " batch_normalization_2 (BatchNormalization)                                               (None, 64, 64, 64)                                                              256                           \n",
      "                                                                                                                                                                                                        \n",
      " leaky_re_lu_2 (LeakyReLU)                                                                (None, 64, 64, 64)                                                              0                             \n",
      "                                                                                                                                                                                                        \n",
      " conv2d_transpose_117 (Conv2DTranspose)                                                   (None, 128, 128, 3)                                                             771                           \n",
      "                                                                                                                                                                                                        \n",
      " activation_8 (Activation)                                                                (None, 128, 128, 3)                                                             0                             \n",
      "                                                                                                                                                                                                        \n",
      "========================================================================================================================================================================================================\n",
      "Total params: 2,800,515\n",
      "Trainable params: 2,799,747\n",
      "Non-trainable params: 768\n",
      "________________________________________________________________________________________________________________________________________________________________________________________________________\n"
     ]
    },
    {
     "data": {
      "text/plain": [
       "<keras.engine.sequential.Sequential at 0x7f8220063580>"
      ]
     },
     "execution_count": 44,
     "metadata": {},
     "output_type": "execute_result"
    }
   ],
   "source": [
    "n_hidden_layers = 6\n",
    "\n",
    "ngf = 64\n",
    "\n",
    "def build_generator(z_dim):\n",
    "    model = Sequential(name=\"generator\")\n",
    "\n",
    "    model.add(Reshape((1, 1, z_dim), input_shape=(z_dim,)))\n",
    "    model.add(Conv2DTranspose(ngf*4, kernel_size=6, strides=6, padding='valid'))\n",
    "\n",
    "    model.add(Conv2DTranspose(ngf*3, kernel_size=5, strides=5, padding='valid'))\n",
    "    model.add(BatchNormalization())\n",
    "    model.add(LeakyReLU())\n",
    "\n",
    "    model.add(Conv2DTranspose(ngf*2, kernel_size=5, strides=2, padding='valid'))\n",
    "    model.add(BatchNormalization())\n",
    "    model.add(LeakyReLU())\n",
    "\n",
    "    model.add(Conv2DTranspose(ngf, kernel_size=2, strides=1, padding='valid'))\n",
    "    model.add(BatchNormalization())\n",
    "    model.add(LeakyReLU())\n",
    "\n",
    "    model.add(Conv2DTranspose(3, kernel_size=2, strides=2, padding=\"valid\"))\n",
    "    model.add(Activation(\"tanh\"))\n",
    "\n",
    "    # model.add(Conv2DTranspose(128, kernel_size=2, strides=1))\n",
    "\n",
    "    # # model.add(Dense(1024* 8 * 8, input_dim=z_dim))\n",
    "    # # model.add(Reshape((8, 8, 1024)))\n",
    "    # model.add(Reshape((1, 1, z_dim), input_shape=(z_dim,)))\n",
    "\n",
    "    # # get 6 numbers from an interpolate between 1 4\n",
    "    # for f in np.linspace(4, 1, n_hidden_layers):\n",
    "    #     model.add(Conv2DTranspose(ngf*f, kernel_size=5, strides=2, padding=\"same\"))\n",
    "    #     if f != 4:\n",
    "    #         # Don't normalize the first layerlayer\n",
    "    #         model.add(BatchNormalization())\n",
    "    #     model.add(ReLU())\n",
    "\n",
    "\n",
    "\n",
    "    # model.add(Conv2DTranspose(3, kernel_size=5, strides=2, padding=\"valid\"))\n",
    "    # model.add(Activation(\"tanh\"))\n",
    "\n",
    "    model.summary(200)\n",
    "    return model\n",
    "\n",
    "build_generator(100)"
   ]
  }
 ],
 "metadata": {
  "kernelspec": {
   "display_name": ".venv",
   "language": "python",
   "name": "python3"
  },
  "language_info": {
   "codemirror_mode": {
    "name": "ipython",
    "version": 3
   },
   "file_extension": ".py",
   "mimetype": "text/x-python",
   "name": "python",
   "nbconvert_exporter": "python",
   "pygments_lexer": "ipython3",
   "version": "3.8.10"
  },
  "orig_nbformat": 4
 },
 "nbformat": 4,
 "nbformat_minor": 2
}

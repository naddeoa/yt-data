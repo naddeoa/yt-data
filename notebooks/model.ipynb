{
 "cells": [
  {
   "cell_type": "code",
   "execution_count": 1,
   "metadata": {},
   "outputs": [
    {
     "name": "stdout",
     "output_type": "stream",
     "text": [
      "/home/anthony/workspace/yt-data\n"
     ]
    }
   ],
   "source": [
    "%cd .."
   ]
  },
  {
   "cell_type": "code",
   "execution_count": 2,
   "metadata": {},
   "outputs": [
    {
     "name": "stderr",
     "output_type": "stream",
     "text": [
      "2023-06-29 20:19:09.852307: I tensorflow/core/platform/cpu_feature_guard.cc:182] This TensorFlow binary is optimized to use available CPU instructions in performance-critical operations.\n",
      "To enable the following instructions: AVX2 FMA, in other operations, rebuild TensorFlow with the appropriate compiler flags.\n",
      "/home/anthony/workspace/yt-data/.venv/lib/python3.8/site-packages/tqdm/auto.py:21: TqdmWarning: IProgress not found. Please update jupyter and ipywidgets. See https://ipywidgets.readthedocs.io/en/stable/user_install.html\n",
      "  from .autonotebook import tqdm as notebook_tqdm\n"
     ]
    }
   ],
   "source": [
    "\n",
    "import tensorflow as tf\n",
    "import os\n",
    "from typing import List, Tuple, Iterator\n",
    "from rangedict import RangeDict\n",
    "import numpy as np\n",
    "\n",
    "from thumbs.experiment import Experiment\n",
    "from thumbs.loss import Loss\n",
    "from thumbs.data import get_pokemon_data256\n",
    "from thumbs.params import HyperParams, MutableHyperParams\n",
    "from thumbs.model.model import Model, BuiltModel\n",
    "\n",
    "from keras.models import Sequential\n",
    "from keras.layers import Dense, Reshape, Conv2DTranspose, Flatten, LeakyReLU\n",
    "from keras.layers import (\n",
    "    Activation,\n",
    "    BatchNormalization,\n",
    "    Dense,\n",
    "    GaussianNoise,\n",
    "    Dropout,\n",
    "    Flatten,\n",
    "    Reshape,\n",
    "    ReLU,\n",
    "    LeakyReLU,\n",
    "    LayerNormalization,\n",
    "    # BatchNormalizationV2,\n",
    ")\n",
    "\n",
    "# from keras.layers.normalization.batch_normalization_v1 import (\n",
    "#     BatchNormalization,\n",
    "# )\n",
    "from tensorflow.compat.v1.keras.layers import BatchNormalization as BatchNormalizationV1\n",
    "from keras.layers.convolutional import Conv2D, Conv2DTranspose\n",
    "\n",
    "from thumbs.train import Train, TrainMSE, TrainBCE, TrainBCESimilarity, TrainWassersteinGP"
   ]
  },
  {
   "cell_type": "code",
   "execution_count": 39,
   "metadata": {},
   "outputs": [
    {
     "name": "stdout",
     "output_type": "stream",
     "text": [
      "Model: \"discriminator\"\n",
      "_________________________________________________________________\n",
      " Layer (type)                Output Shape              Param #   \n",
      "=================================================================\n",
      " conv2d_195 (Conv2D)         (None, 64, 64, 96)        1248      \n",
      "                                                                 \n",
      " leaky_re_lu_170 (LeakyReLU)  (None, 64, 64, 96)       0         \n",
      "                                                                 \n",
      " conv2d_196 (Conv2D)         (None, 63, 63, 192)       73920     \n",
      "                                                                 \n",
      " leaky_re_lu_171 (LeakyReLU)  (None, 63, 63, 192)      0         \n",
      "                                                                 \n",
      " conv2d_197 (Conv2D)         (None, 30, 30, 288)       1382688   \n",
      "                                                                 \n",
      " leaky_re_lu_172 (LeakyReLU)  (None, 30, 30, 288)      0         \n",
      "                                                                 \n",
      " conv2d_198 (Conv2D)         (None, 6, 6, 384)         2765184   \n",
      "                                                                 \n",
      " leaky_re_lu_173 (LeakyReLU)  (None, 6, 6, 384)        0         \n",
      "                                                                 \n",
      " conv2d_199 (Conv2D)         (None, 1, 1, 480)         6636000   \n",
      "                                                                 \n",
      " flatten_24 (Flatten)        (None, 480)               0         \n",
      "                                                                 \n",
      " dense_24 (Dense)            (None, 1)                 481       \n",
      "                                                                 \n",
      "=================================================================\n",
      "Total params: 10,859,521\n",
      "Trainable params: 10,859,521\n",
      "Non-trainable params: 0\n",
      "_________________________________________________________________\n"
     ]
    },
    {
     "data": {
      "text/plain": [
       "<keras.engine.sequential.Sequential at 0x7f48e7bed5b0>"
      ]
     },
     "execution_count": 39,
     "metadata": {},
     "output_type": "execute_result"
    }
   ],
   "source": [
    "ndf = 64 + 32\n",
    "\n",
    "def build_discriminator(img_shape=(128,128,3)):\n",
    "\n",
    "    model = Sequential(name=\"discriminator\")\n",
    "\n",
    "    model.add(Conv2D(ndf, kernel_size=2, strides=2,  input_shape=img_shape))\n",
    "    model.add(LeakyReLU(alpha=0.2))\n",
    "\n",
    "    model.add(Conv2D(ndf*2, kernel_size=2, strides=1))\n",
    "    model.add(LeakyReLU(alpha=0.2))\n",
    "\n",
    "    model.add(Conv2D(ndf*3, kernel_size=5, strides=2))\n",
    "    model.add(LeakyReLU(alpha=0.2))\n",
    "\n",
    "    model.add(Conv2D(ndf*4, kernel_size=5, strides=5))\n",
    "    model.add(LeakyReLU(alpha=0.2))\n",
    "\n",
    "    model.add(Conv2D(ndf*5, kernel_size=6, strides=6))\n",
    "    model.add(Flatten())\n",
    "    model.add(Dense(1))\n",
    "\n",
    "\n",
    "    model.summary()\n",
    "    return model\n",
    "\n",
    "build_discriminator()"
   ]
  }
 ],
 "metadata": {
  "kernelspec": {
   "display_name": ".venv",
   "language": "python",
   "name": "python3"
  },
  "language_info": {
   "codemirror_mode": {
    "name": "ipython",
    "version": 3
   },
   "file_extension": ".py",
   "mimetype": "text/x-python",
   "name": "python",
   "nbconvert_exporter": "python",
   "pygments_lexer": "ipython3",
   "version": "3.8.10"
  },
  "orig_nbformat": 4
 },
 "nbformat": 4,
 "nbformat_minor": 2
}

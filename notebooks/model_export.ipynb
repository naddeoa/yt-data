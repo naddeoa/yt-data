{
 "cells": [
  {
   "cell_type": "code",
   "execution_count": 1,
   "metadata": {},
   "outputs": [
    {
     "name": "stdout",
     "output_type": "stream",
     "text": [
      "/home/anthony/workspace/yt-data\n"
     ]
    }
   ],
   "source": [
    "%cd ..\n",
    "import os\n",
    "os.environ[\"CUDA_VISIBLE_DEVICES\"] = \"-1\" # use cpu because I'm training on gpu\n"
   ]
  },
  {
   "cell_type": "code",
   "execution_count": 2,
   "metadata": {},
   "outputs": [
    {
     "name": "stderr",
     "output_type": "stream",
     "text": [
      "WARNING: CPU random generator seem to be failing, disabling hardware random number generation\n",
      "WARNING: RDRND generated: 0xffffffff 0xffffffff 0xffffffff 0xffffffff\n",
      "/home/anthony/workspace/yt-data/.venv/lib/python3.8/site-packages/tensorflow_addons/utils/tfa_eol_msg.py:23: UserWarning: \n",
      "\n",
      "TensorFlow Addons (TFA) has ended development and introduction of new features.\n",
      "TFA has entered a minimal maintenance and release mode until a planned end of life in May 2024.\n",
      "Please modify downstream libraries to take dependencies from other repositories in our TensorFlow community (e.g. Keras, Keras-CV, and Keras-NLP). \n",
      "\n",
      "For more information see: https://github.com/tensorflow/addons/issues/2807 \n",
      "\n",
      "  warnings.warn(\n"
     ]
    }
   ],
   "source": [
    "\n",
    "# from thumbs.experiments.pokemjon_big_both import PokemonExperiment\n",
    "from thumbs.experiments.pokemon_diff_augment import PokemonExperiment\n",
    "from thumbs.train import load_weights\n",
    "from thumbs.viz import show_samples, visualize_preprocessed_image\n",
    "from thumbs.data import load_and_preprocess_image\n",
    "import tensorflow as  tf\n",
    "import numpy as np\n",
    "import matplotlib.pyplot as plt\n"
   ]
  },
  {
   "cell_type": "code",
   "execution_count": 3,
   "metadata": {},
   "outputs": [
    {
     "name": "stderr",
     "output_type": "stream",
     "text": [
      "2023-08-07 14:18:19.801500: E tensorflow/compiler/xla/stream_executor/cuda/cuda_driver.cc:268] failed call to cuInit: CUDA_ERROR_NO_DEVICE: no CUDA-capable device is detected\n"
     ]
    },
    {
     "name": "stdout",
     "output_type": "stream",
     "text": [
      "Model: \"discriminator\"\n",
      "________________________________________________________________________________________________________________________________________________________________________________________________________\n",
      " Layer (type)                                                                             Output Shape                                                                    Param #                       \n",
      "========================================================================================================================================================================================================\n",
      " diff_augment_layer (DiffAugmentLayer)                                                    (None, 128, 128, 3)                                                             0                             \n",
      "                                                                                                                                                                                                        \n",
      " conv2d (Conv2D)                                                                          (None, 64, 64, 128)                                                             6144                          \n",
      "                                                                                                                                                                                                        \n",
      " leaky_re_lu (LeakyReLU)                                                                  (None, 64, 64, 128)                                                             0                             \n",
      "                                                                                                                                                                                                        \n",
      " conv2d_1 (Conv2D)                                                                        (None, 32, 32, 256)                                                             524288                        \n",
      "                                                                                                                                                                                                        \n",
      " instance_normalization (InstanceNormalization)                                           (None, 32, 32, 256)                                                             512                           \n",
      "                                                                                                                                                                                                        \n",
      " leaky_re_lu_1 (LeakyReLU)                                                                (None, 32, 32, 256)                                                             0                             \n",
      "                                                                                                                                                                                                        \n",
      " conv2d_2 (Conv2D)                                                                        (None, 16, 16, 512)                                                             2097152                       \n",
      "                                                                                                                                                                                                        \n",
      " instance_normalization_1 (InstanceNormalization)                                         (None, 16, 16, 512)                                                             1024                          \n",
      "                                                                                                                                                                                                        \n",
      " leaky_re_lu_2 (LeakyReLU)                                                                (None, 16, 16, 512)                                                             0                             \n",
      "                                                                                                                                                                                                        \n",
      " conv2d_3 (Conv2D)                                                                        (None, 8, 8, 1024)                                                              8388608                       \n",
      "                                                                                                                                                                                                        \n",
      " leaky_re_lu_3 (LeakyReLU)                                                                (None, 8, 8, 1024)                                                              0                             \n",
      "                                                                                                                                                                                                        \n",
      " flatten (Flatten)                                                                        (None, 65536)                                                                   0                             \n",
      "                                                                                                                                                                                                        \n",
      " dense (Dense)                                                                            (None, 1)                                                                       65537                         \n",
      "                                                                                                                                                                                                        \n",
      "========================================================================================================================================================================================================\n",
      "Total params: 11083265 (42.28 MB)\n",
      "Trainable params: 11083265 (42.28 MB)\n",
      "Non-trainable params: 0 (0.00 Byte)\n",
      "________________________________________________________________________________________________________________________________________________________________________________________________________\n",
      "Model: \"generator\"\n",
      "________________________________________________________________________________________________________________________________________________________________________________________________________\n",
      " Layer (type)                                                                             Output Shape                                                                    Param #                       \n",
      "========================================================================================================================================================================================================\n",
      " dense_1 (Dense)                                                                          (None, 32768)                                                                   3309568                       \n",
      "                                                                                                                                                                                                        \n",
      " reshape (Reshape)                                                                        (None, 8, 8, 512)                                                               0                             \n",
      "                                                                                                                                                                                                        \n",
      " conv2d_transpose (Conv2DTranspose)                                                       (None, 16, 16, 512)                                                             4194304                       \n",
      "                                                                                                                                                                                                        \n",
      " batch_normalization (BatchNormalization)                                                 (None, 16, 16, 512)                                                             2048                          \n",
      "                                                                                                                                                                                                        \n",
      " leaky_re_lu_4 (LeakyReLU)                                                                (None, 16, 16, 512)                                                             0                             \n",
      "                                                                                                                                                                                                        \n",
      " conv2d_transpose_1 (Conv2DTranspose)                                                     (None, 32, 32, 256)                                                             2097152                       \n",
      "                                                                                                                                                                                                        \n",
      " batch_normalization_1 (BatchNormalization)                                               (None, 32, 32, 256)                                                             1024                          \n",
      "                                                                                                                                                                                                        \n",
      " leaky_re_lu_5 (LeakyReLU)                                                                (None, 32, 32, 256)                                                             0                             \n",
      "                                                                                                                                                                                                        \n",
      " conv2d_transpose_2 (Conv2DTranspose)                                                     (None, 64, 64, 128)                                                             524288                        \n",
      "                                                                                                                                                                                                        \n",
      " batch_normalization_2 (BatchNormalization)                                               (None, 64, 64, 128)                                                             512                           \n",
      "                                                                                                                                                                                                        \n",
      " leaky_re_lu_6 (LeakyReLU)                                                                (None, 64, 64, 128)                                                             0                             \n",
      "                                                                                                                                                                                                        \n",
      " conv2d_transpose_3 (Conv2DTranspose)                                                     (None, 128, 128, 3)                                                             6147                          \n",
      "                                                                                                                                                                                                        \n",
      " activation (Activation)                                                                  (None, 128, 128, 3)                                                             0                             \n",
      "                                                                                                                                                                                                        \n",
      " diff_augment_layer_1 (DiffAugmentLayer)                                                  (None, 128, 128, 3)                                                             0                             \n",
      "                                                                                                                                                                                                        \n",
      "========================================================================================================================================================================================================\n",
      "Total params: 10135043 (38.66 MB)\n",
      "Trainable params: 10133251 (38.66 MB)\n",
      "Non-trainable params: 1792 (7.00 KB)\n",
      "________________________________________________________________________________________________________________________________________________________________________________________________________\n",
      "Model: \"discriminator\"\n",
      "________________________________________________________________________________________________________________________________________________________________________________________________________\n",
      " Layer (type)                                                                             Output Shape                                                                    Param #                       \n",
      "========================================================================================================================================================================================================\n",
      " diff_augment_layer (DiffAugmentLayer)                                                    (None, 128, 128, 3)                                                             0                             \n",
      "                                                                                                                                                                                                        \n",
      " conv2d (Conv2D)                                                                          (None, 64, 64, 128)                                                             6144                          \n",
      "                                                                                                                                                                                                        \n",
      " leaky_re_lu (LeakyReLU)                                                                  (None, 64, 64, 128)                                                             0                             \n",
      "                                                                                                                                                                                                        \n",
      " conv2d_1 (Conv2D)                                                                        (None, 32, 32, 256)                                                             524288                        \n",
      "                                                                                                                                                                                                        \n",
      " instance_normalization (InstanceNormalization)                                           (None, 32, 32, 256)                                                             512                           \n",
      "                                                                                                                                                                                                        \n",
      " leaky_re_lu_1 (LeakyReLU)                                                                (None, 32, 32, 256)                                                             0                             \n",
      "                                                                                                                                                                                                        \n",
      " conv2d_2 (Conv2D)                                                                        (None, 16, 16, 512)                                                             2097152                       \n",
      "                                                                                                                                                                                                        \n",
      " instance_normalization_1 (InstanceNormalization)                                         (None, 16, 16, 512)                                                             1024                          \n",
      "                                                                                                                                                                                                        \n",
      " leaky_re_lu_2 (LeakyReLU)                                                                (None, 16, 16, 512)                                                             0                             \n",
      "                                                                                                                                                                                                        \n",
      " conv2d_3 (Conv2D)                                                                        (None, 8, 8, 1024)                                                              8388608                       \n",
      "                                                                                                                                                                                                        \n",
      " leaky_re_lu_3 (LeakyReLU)                                                                (None, 8, 8, 1024)                                                              0                             \n",
      "                                                                                                                                                                                                        \n",
      " flatten (Flatten)                                                                        (None, 65536)                                                                   0                             \n",
      "                                                                                                                                                                                                        \n",
      " dense (Dense)                                                                            (None, 1)                                                                       65537                         \n",
      "                                                                                                                                                                                                        \n",
      "========================================================================================================================================================================================================\n",
      "Total params: 11083265 (42.28 MB)\n",
      "Trainable params: 11083265 (42.28 MB)\n",
      "Non-trainable params: 0 (0.00 Byte)\n",
      "________________________________________________________________________________________________________________________________________________________________________________________________________\n",
      "Model: \"generator\"\n",
      "________________________________________________________________________________________________________________________________________________________________________________________________________\n",
      " Layer (type)                                                                             Output Shape                                                                    Param #                       \n",
      "========================================================================================================================================================================================================\n",
      " dense_1 (Dense)                                                                          (None, 32768)                                                                   3309568                       \n",
      "                                                                                                                                                                                                        \n",
      " reshape (Reshape)                                                                        (None, 8, 8, 512)                                                               0                             \n",
      "                                                                                                                                                                                                        \n",
      " conv2d_transpose (Conv2DTranspose)                                                       (None, 16, 16, 512)                                                             4194304                       \n",
      "                                                                                                                                                                                                        \n",
      " batch_normalization (BatchNormalization)                                                 (None, 16, 16, 512)                                                             2048                          \n",
      "                                                                                                                                                                                                        \n",
      " leaky_re_lu_4 (LeakyReLU)                                                                (None, 16, 16, 512)                                                             0                             \n",
      "                                                                                                                                                                                                        \n",
      " conv2d_transpose_1 (Conv2DTranspose)                                                     (None, 32, 32, 256)                                                             2097152                       \n",
      "                                                                                                                                                                                                        \n",
      " batch_normalization_1 (BatchNormalization)                                               (None, 32, 32, 256)                                                             1024                          \n",
      "                                                                                                                                                                                                        \n",
      " leaky_re_lu_5 (LeakyReLU)                                                                (None, 32, 32, 256)                                                             0                             \n",
      "                                                                                                                                                                                                        \n",
      " conv2d_transpose_2 (Conv2DTranspose)                                                     (None, 64, 64, 128)                                                             524288                        \n",
      "                                                                                                                                                                                                        \n",
      " batch_normalization_2 (BatchNormalization)                                               (None, 64, 64, 128)                                                             512                           \n",
      "                                                                                                                                                                                                        \n",
      " leaky_re_lu_6 (LeakyReLU)                                                                (None, 64, 64, 128)                                                             0                             \n",
      "                                                                                                                                                                                                        \n",
      " conv2d_transpose_3 (Conv2DTranspose)                                                     (None, 128, 128, 3)                                                             6147                          \n",
      "                                                                                                                                                                                                        \n",
      " activation (Activation)                                                                  (None, 128, 128, 3)                                                             0                             \n",
      "                                                                                                                                                                                                        \n",
      " diff_augment_layer_1 (DiffAugmentLayer)                                                  (None, 128, 128, 3)                                                             0                             \n",
      "                                                                                                                                                                                                        \n",
      "========================================================================================================================================================================================================\n",
      "Total params: 10135043 (38.66 MB)\n",
      "Trainable params: 10133251 (38.66 MB)\n",
      "Non-trainable params: 1792 (7.00 KB)\n",
      "________________________________________________________________________________________________________________________________________________________________________________________________________\n",
      "Loaded previous weights\n",
      "Loaded previous weights\n"
     ]
    }
   ],
   "source": [
    "exp = PokemonExperiment()\n",
    "mparams = exp.get_mutable_params()\n",
    "m = exp.get_model(mparams[0]).build()\n",
    "load_weights(m.generator, exp.get_params().gen_weight_path)\n",
    "load_weights(m.discriminator, exp.get_params().dis_weight_path)"
   ]
  },
  {
   "cell_type": "code",
   "execution_count": 6,
   "metadata": {},
   "outputs": [
    {
     "name": "stdout",
     "output_type": "stream",
     "text": [
      "WARNING:tensorflow:Compiled the loaded model, but the compiled metrics have yet to be built. `model.compile_metrics` will be empty until you train or evaluate the model.\n"
     ]
    },
    {
     "name": "stderr",
     "output_type": "stream",
     "text": [
      "WARNING:tensorflow:Compiled the loaded model, but the compiled metrics have yet to be built. `model.compile_metrics` will be empty until you train or evaluate the model.\n"
     ]
    }
   ],
   "source": [
    "m.generator.save(\"export/Servo/1/\", save_format=\"tf\")"
   ]
  }
 ],
 "metadata": {
  "kernelspec": {
   "display_name": ".venv",
   "language": "python",
   "name": "python3"
  },
  "language_info": {
   "codemirror_mode": {
    "name": "ipython",
    "version": 3
   },
   "file_extension": ".py",
   "mimetype": "text/x-python",
   "name": "python",
   "nbconvert_exporter": "python",
   "pygments_lexer": "ipython3",
   "version": "3.8.10"
  },
  "orig_nbformat": 4
 },
 "nbformat": 4,
 "nbformat_minor": 2
}
